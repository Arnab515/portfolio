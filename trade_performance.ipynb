{
  "nbformat": 4,
  "nbformat_minor": 0,
  "metadata": {
    "colab": {
      "provenance": [],
      "authorship_tag": "ABX9TyPnrN6y+jDn7JR6/jdaiCiQ",
      "include_colab_link": true
    },
    "kernelspec": {
      "name": "python3",
      "display_name": "Python 3"
    },
    "language_info": {
      "name": "python"
    }
  },
  "cells": [
    {
      "cell_type": "markdown",
      "metadata": {
        "id": "view-in-github",
        "colab_type": "text"
      },
      "source": [
        "<a href=\"https://colab.research.google.com/github/Arnab515/portfolio/blob/main/trade_performance.ipynb\" target=\"_parent\"><img src=\"https://colab.research.google.com/assets/colab-badge.svg\" alt=\"Open In Colab\"/></a>"
      ]
    },
    {
      "cell_type": "code",
      "execution_count": null,
      "metadata": {
        "id": "46jQmYUBw4kT"
      },
      "outputs": [],
      "source": [
        "import pandas as pd\n",
        "import numpy as np\n",
        "import random\n",
        "from datetime import datetime\n",
        "\n",
        "def getTickerPrice(ticker: str, date: datetime) -> float:\n",
        "    # Dummy function to simulate getting the price of a security at a given date\n",
        "    return random.uniform(1, 100)\n",
        "\n",
        "def calculate_trade_performance(trades: pd.DataFrame) -> pd.Series:\n",
        "    # Handling edge cases\n",
        "    if trades.empty:\n",
        "        return pd.Series({})\n",
        "\n",
        "    # Fill missing 'Size' with 1\n",
        "    trades['Size'].fillna(1, inplace=True)\n",
        "\n",
        "    # Initializing metrics\n",
        "    total_trades = len(trades)\n",
        "    total_buy_trades = len(trades[trades['Side'] == 'buy'])\n",
        "    total_sell_trades = len(trades[trades['Side'] == 'sell'])\n",
        "    total_volume_traded = trades['Size'].sum()\n",
        "\n",
        "    # Calculate gross profit, gross loss, net profit\n",
        "    trades['MarketPrice'] = trades.apply(lambda row: getTickerPrice(row['Symbol'], row['Date']), axis=1)\n",
        "    trades['PnL'] = np.where(trades['Side'] == 'buy',\n",
        "                             (trades['MarketPrice'] - trades['Price']) * trades['Size'],\n",
        "                             (trades['Price'] - trades['MarketPrice']) * trades['Size'])\n",
        "    gross_profit = trades[trades['PnL'] > 0]['PnL'].sum()\n",
        "    gross_loss = trades[trades['PnL'] < 0]['PnL'].sum()\n",
        "    net_profit = gross_profit + gross_loss  # Since gross_loss is negative\n",
        "\n",
        "    # Calculate winning and losing trades\n",
        "    winning_trades = len(trades[trades['PnL'] > 0])\n",
        "    losing_trades = len(trades[trades['PnL'] < 0])\n",
        "    win_rate = winning_trades / total_trades if total_trades > 0 else 0\n",
        "\n",
        "    # Collecting metrics in a dictionary\n",
        "    metrics = {\n",
        "        'Total Trades': total_trades,\n",
        "        'Total Buy Trades': total_buy_trades,\n",
        "        'Total Sell Trades': total_sell_trades,\n",
        "        'Total Volume Traded': total_volume_traded,\n",
        "        'Gross Profit': gross_profit,\n",
        "        'Gross Loss': gross_loss,\n",
        "        'Net Profit': net_profit,\n",
        "        'Winning Trades': winning_trades,\n",
        "        'Losing Trades': losing_trades,\n",
        "        'Win Rate': win_rate\n",
        "    }\n",
        "\n",
        "    return pd.Series(metrics)\n",
        "\n",
        "# Example usage\n",
        "# Example DataFrame\n",
        "data = {\n",
        "    'Date': [datetime(2023, 1, 1), datetime(2023, 1, 2), datetime(2023, 1, 3)],\n",
        "    'Symbol': ['AAPL', 'GOOG', 'MSFT'],\n",
        "    'Side': ['buy', 'sell', 'buy'],\n",
        "    'Size': [10, 5, 15],\n",
        "    'Price': [150, 1200, 250]\n",
        "}\n",
        "\n",
        "trades_df = pd.DataFrame(data)\n",
        "performance_metrics = calculate_trade_performance(trades_df)\n",
        "print(performance_metrics)"
      ]
    }
  ]
}